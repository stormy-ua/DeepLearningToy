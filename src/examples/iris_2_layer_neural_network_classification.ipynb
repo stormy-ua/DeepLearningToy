{
 "cells": [
  {
   "cell_type": "markdown",
   "metadata": {},
   "source": [
    "# Iris dataset classification with 2-layer neural network"
   ]
  },
  {
   "cell_type": "code",
   "execution_count": 1,
   "metadata": {
    "collapsed": false
   },
   "outputs": [
    {
     "name": "stderr",
     "output_type": "stream",
     "text": [
      "/Users/kirill/anaconda/lib/python3.5/site-packages/sklearn/utils/fixes.py:64: DeprecationWarning: inspect.getargspec() is deprecated, use inspect.signature() instead\n",
      "  if 'order' in inspect.getargspec(np.copy)[0]:\n"
     ]
    }
   ],
   "source": [
    "import numpy as np\n",
    "import matplotlib.pyplot as plt\n",
    "%matplotlib inline\n",
    "from sklearn.datasets import load_iris\n",
    "from sklearn.preprocessing import LabelBinarizer\n",
    "import pyprind\n",
    "from pydeeptoy.networks import *\n",
    "from pydeeptoy.optimizers import *\n",
    "from pydeeptoy.losses import *\n",
    "from sklearn.metrics import accuracy_score"
   ]
  },
  {
   "cell_type": "code",
   "execution_count": 2,
   "metadata": {
    "collapsed": true
   },
   "outputs": [],
   "source": [
    "iris = load_iris()\n",
    "X = iris.data[:, :2]\n",
    "y = iris.target\n",
    "# standardize\n",
    "mean = X.mean(axis=0)\n",
    "std = X.std(axis=0)\n",
    "X = (X - mean) / std\n",
    "one_hot_y = np.array(LabelBinarizer().fit_transform(y).T)"
   ]
  },
  {
   "cell_type": "code",
   "execution_count": 3,
   "metadata": {
    "collapsed": false
   },
   "outputs": [
    {
     "name": "stdout",
     "output_type": "stream",
     "text": [
      "0%                                                        100%\n",
      "[████████████████████████████████████████████████████████████] | ETA: 00:00:00 | Item ID: loss = 0.11\n",
      "Total time elapsed: 00:00:12\n"
     ]
    },
    {
     "data": {
      "text/plain": [
       "0.92666666666666664"
      ]
     },
     "execution_count": 3,
     "metadata": {},
     "output_type": "execute_result"
    }
   ],
   "source": [
    "cg = ComputationalGraph()\n",
    "x_in = cg.constant(name=\"X.T\")\n",
    "nn_output = neural_network(cg, x_in, X.shape[1], 20, 20, 20, 3)\n",
    "nn_output.name = \"nn_output\"\n",
    "        \n",
    "y_train = cg.constant(name=\"one_hot_y\")\n",
    "batch_size=256\n",
    "loss = softmax(cg, nn_output, y_train, \"loss_softmax\")\n",
    "\n",
    "ctx = SimulationContext()        \n",
    "\n",
    "sgd = MomentumSgdOptimizer(learning_rate=0.05)\n",
    "epochs = 10000\n",
    "bar = pyprind.ProgBar(epochs, bar_char='█', width=60, track_time=True, stream=1)\n",
    "for epoch in range(0, epochs):\n",
    "    indexes = np.arange(0, len(X))\n",
    "    np.random.shuffle(indexes)\n",
    "    train_x = X[indexes]\n",
    "    train_y = one_hot_y[:, indexes]    \n",
    "    for batch in range(0, len(train_x), batch_size):\n",
    "        batch_x = train_x[batch:batch + batch_size]\n",
    "        batch_y = train_y[:, batch:batch + batch_size]\n",
    "        sgd.minimize(ctx, cg, {x_in: batch_x.T, y_train: batch_y})    \n",
    "    bar.update(item_id = \"loss = {0:.2f}\".format(ctx[loss].value))\n",
    "\n",
    "ctx.forward(cg, {x_in: X.T, y_train: 1})\n",
    "y_pred = np.argmax(ctx[nn_output].value, axis=0)\n",
    "\n",
    "accuracy = accuracy_score(y, y_pred)\n",
    "accuracy"
   ]
  },
  {
   "cell_type": "code",
   "execution_count": 4,
   "metadata": {
    "collapsed": false
   },
   "outputs": [
    {
     "name": "stderr",
     "output_type": "stream",
     "text": [
      "/Users/kirill/anaconda/lib/python3.5/site-packages/matplotlib/collections.py:590: FutureWarning: elementwise comparison failed; returning scalar instead, but in the future will perform elementwise comparison\n",
      "  if self._edgecolors == str('face'):\n"
     ]
    },
    {
     "data": {
      "image/png": "[encoded data removed]",
      "text/plain": [
       "<matplotlib.figure.Figure at 0x108631da0>"
      ]
     },
     "metadata": {},
     "output_type": "display_data"
    }
   ],
   "source": [
    "colors = \"bry\"\n",
    "fig = plt.figure()\n",
    "   \n",
    "h = 0.01\n",
    "x_min, x_max = X[:, 0].min() - 1, X[:, 0].max() + 1\n",
    "y_min, y_max = X[:, 1].min() - 1, X[:, 1].max() + 1\n",
    "xx, yy = np.meshgrid(np.arange(x_min, x_max, h),\n",
    "                     np.arange(y_min, y_max, h))\n",
    "\n",
    "mps = np.c_[xx.ravel(), yy.ravel()]\n",
    "ctx.forward(cg, {x_in: mps.T, y_train: 1})\n",
    "Z = np.argmax(ctx[nn_output].value, axis=0)\n",
    "# Put the result into a color plot\n",
    "Z = Z.reshape(xx.shape)\n",
    "cs = plt.contourf(xx, yy, Z, cmap=plt.cm.Paired)\n",
    "\n",
    "for i, color in zip(np.unique(iris.target), colors):\n",
    "    idx = np.where(y == i)\n",
    "    plt.scatter(X[y == i, 0], X[y == i, 1], c=color, label=iris.target_names[i], cmap=plt.cm.Paired)\n",
    "\n",
    "plt.axis('tight')\n",
    "fig.set_size_inches(10, 10)"
   ]
  }
 ],
 "metadata": {
  "kernelspec": {
   "display_name": "Python 3",
   "language": "python",
   "name": "python3"
  },
  "language_info": {
   "codemirror_mode": {
    "name": "ipython",
    "version": 3
   },
   "file_extension": ".py",
   "mimetype": "text/x-python",
   "name": "python",
   "nbconvert_exporter": "python",
   "pygments_lexer": "ipython3",
   "version": "3.5.2"
  }
 },
 "nbformat": 4,
 "nbformat_minor": 0
}
