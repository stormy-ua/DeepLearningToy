{
 "cells": [
  {
   "cell_type": "code",
   "execution_count": 2,
   "metadata": {
    "collapsed": false
   },
   "outputs": [],
   "source": [
    "import numpy as np\n",
    "import matplotlib.pyplot as plt\n",
    "%matplotlib inline\n",
    "from sklearn.datasets import load_iris\n",
    "from sklearn.preprocessing import LabelBinarizer\n",
    "import pyprind\n",
    "from pydeeptoy.networks import *\n",
    "from pydeeptoy.optimizers import *\n",
    "from pydeeptoy.losses import *\n",
    "from sklearn.metrics import accuracy_score\n",
    "import dill as pickle\n",
    "import pydeeptoy.io_utils\n",
    "pickle.settings['recurse']=True"
   ]
  },
  {
   "cell_type": "code",
   "execution_count": null,
   "metadata": {
    "collapsed": false
   },
   "outputs": [],
   "source": [
    "mnist = np.loadtxt('mnist/train.csv', delimiter=',', skiprows=1)"
   ]
  },
  {
   "cell_type": "code",
   "execution_count": null,
   "metadata": {
    "collapsed": false
   },
   "outputs": [],
   "source": [
    "X = mnist[:, 1:]\n",
    "y = mnist[:, 0]"
   ]
  },
  {
   "cell_type": "code",
   "execution_count": null,
   "metadata": {
    "collapsed": true
   },
   "outputs": [],
   "source": [
    "mnistMean, mnistStd = np.mean(X), np.std(X)\n",
    "X = (X - mnistMean)/mnistStd"
   ]
  },
  {
   "cell_type": "code",
   "execution_count": null,
   "metadata": {
    "collapsed": false
   },
   "outputs": [],
   "source": [
    "one_hot_y = np.array(LabelBinarizer().fit_transform(y).T)"
   ]
  },
  {
   "cell_type": "code",
   "execution_count": null,
   "metadata": {
    "collapsed": false
   },
   "outputs": [],
   "source": [
    "plt.imshow(X[10].reshape(28, 28), cmap='gray')\n",
    "plt.title(np.argmax(one_hot_y[:, 10]))"
   ]
  },
  {
   "cell_type": "code",
   "execution_count": null,
   "metadata": {
    "collapsed": false
   },
   "outputs": [],
   "source": [
    "cg = ComputationalGraph()\n",
    "x_in = cg.constant(name=\"X\")\n",
    "nn_output = softmax(cg, neural_network(cg, x_in, X.shape[1], 50, 50, 50, 10), name = \"nn_output\") \n",
    "        \n",
    "y_train = cg.constant(name=\"one_hot_y\")\n",
    "batch_size=256\n",
    "loss = cross_entropy(cg, nn_output, y_train, \"loss_cross_entropy\")\n",
    "\n",
    "ctx = SimulationContext()        \n",
    "\n",
    "sgd = MomentumSgdOptimizer(learning_rate=0.01)\n",
    "epochs = 10\n",
    "bar = pyprind.ProgBar(epochs, bar_char='█', width=60, track_time=True, stream=1)\n",
    "for epoch in range(0, epochs):\n",
    "    indexes = np.arange(0, len(X))\n",
    "    np.random.shuffle(indexes)\n",
    "    train_x = X[indexes, :]\n",
    "    train_y = one_hot_y[:, indexes]    \n",
    "    for batch in range(0, len(train_x), batch_size):\n",
    "        batch_x = train_x[batch:batch + batch_size]\n",
    "        batch_y = train_y[:, batch:batch + batch_size]\n",
    "        sgd.minimize(ctx, cg, {x_in: batch_x.T, y_train: batch_y})    \n",
    "    bar.update(item_id = \"loss = {0:.5f}\".format(ctx[loss].value))\n",
    "\n",
    "ctx.forward(cg, {x_in: X.T}, out=[nn_output])\n",
    "y_pred = np.argmax(ctx[nn_output].value, axis=0)\n",
    "\n",
    "accuracy = accuracy_score(y, y_pred)\n",
    "accuracy"
   ]
  },
  {
   "cell_type": "code",
   "execution_count": null,
   "metadata": {
    "collapsed": false
   },
   "outputs": [],
   "source": [
    "ctx[x_in].value = None\n",
    "ctx[y_train].value = None\n",
    "ctx[nn_output].value = None"
   ]
  },
  {
   "cell_type": "code",
   "execution_count": null,
   "metadata": {
    "collapsed": false
   },
   "outputs": [],
   "source": [
    "ctx.forward(cg, {x_in: X[0][np.newaxis, :].T}, out=[nn_output])\n",
    "y_pred = np.argmax(ctx[nn_output].value, axis=0)"
   ]
  },
  {
   "cell_type": "code",
   "execution_count": null,
   "metadata": {
    "collapsed": true
   },
   "outputs": [],
   "source": [
    "class Estimator:\n",
    "    def __init__(self, cg: ComputationalGraph, ctx: SimulationContext, x_in, y_out, x_mean, x_std):\n",
    "        self.cg = cg\n",
    "        self.ctx = ctx\n",
    "        self.x_in = x_in\n",
    "        self.y_out = y_out\n",
    "        self.x_mean = x_mean\n",
    "        self.x_std = x_std\n",
    "    def predict(self, x):\n",
    "        x = (x - self.x_mean)/self.x_std\n",
    "        self.ctx.forward(self.cg, {self.x_in: x.T}, out=[self.y_out])\n",
    "        y_pred = np.argmax(self.ctx[self.y_out].value, axis=0)\n",
    "        return y_pred\n",
    "    def predict_probs(self, x):\n",
    "        x = (x - self.x_mean)/self.x_std\n",
    "        self.ctx.forward(self.cg, {self.x_in: x.T}, out=[self.y_out])\n",
    "        return self.ctx[self.y_out].value"
   ]
  },
  {
   "cell_type": "code",
   "execution_count": null,
   "metadata": {
    "collapsed": false
   },
   "outputs": [],
   "source": [
    "estimator = Estimator(cg, ctx, x_in, nn_output, mnistMean, mnistStd)\n",
    "estimator.predict_probs(mnist[:, 1:])[:, 10]"
   ]
  },
  {
   "cell_type": "code",
   "execution_count": null,
   "metadata": {
    "collapsed": false
   },
   "outputs": [],
   "source": [
    "pickle.dump(Estimator(cg, ctx, x_in, nn_output, mnistMean, mnistStd), open(\"digit.recognizer.mlp.estimator\", \"wb\"))"
   ]
  },
  {
   "cell_type": "code",
   "execution_count": null,
   "metadata": {
    "collapsed": false
   },
   "outputs": [],
   "source": [
    "estimator_loaded = pickle.load(open(\"digit.recognizer.mlp.estimator\", \"rb\"))"
   ]
  },
  {
   "cell_type": "code",
   "execution_count": null,
   "metadata": {
    "collapsed": false
   },
   "outputs": [],
   "source": [
    "estimator_loaded.predict(X[0])"
   ]
  },
  {
   "cell_type": "code",
   "execution_count": null,
   "metadata": {
    "collapsed": true
   },
   "outputs": [],
   "source": [
    "Xtest = np.loadtxt('mnist/test.csv', delimiter=',', skiprows=1)\n",
    "Xtest = (Xtest - mnistMean)/mnistStd"
   ]
  },
  {
   "cell_type": "code",
   "execution_count": null,
   "metadata": {
    "collapsed": false
   },
   "outputs": [],
   "source": [
    "Xtest.shape"
   ]
  },
  {
   "cell_type": "code",
   "execution_count": null,
   "metadata": {
    "collapsed": true
   },
   "outputs": [],
   "source": [
    "ctx.forward(cg, {x_in: Xtest.T, y_train: 1})\n",
    "y_pred_test = np.argmax(ctx[nn_output].value, axis=0)"
   ]
  },
  {
   "cell_type": "code",
   "execution_count": null,
   "metadata": {
    "collapsed": false
   },
   "outputs": [],
   "source": [
    "plt.imshow(Xtest[259].reshape(28, 28), cmap='gray')\n",
    "plt.title(y_pred_test[259])"
   ]
  },
  {
   "cell_type": "code",
   "execution_count": null,
   "metadata": {
    "collapsed": false
   },
   "outputs": [],
   "source": [
    "np.savetxt('mnist/pred.csv', np.column_stack((np.arange(len(y_pred_test)) + 1, y_pred_test)), \n",
    "           delimiter=',', header='ImageId,Label', fmt='%.d', comments='')"
   ]
  }
 ],
 "metadata": {
  "kernelspec": {
   "display_name": "Python 3",
   "language": "python",
   "name": "python3"
  }
 },
 "nbformat": 4,
 "nbformat_minor": 0
}
