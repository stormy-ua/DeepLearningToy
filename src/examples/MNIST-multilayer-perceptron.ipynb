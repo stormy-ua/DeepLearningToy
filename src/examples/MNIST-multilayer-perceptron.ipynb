{
 "cells": [
  {
   "cell_type": "code",
   "execution_count": 1,
   "metadata": {
    "collapsed": false
   },
   "outputs": [
    {
     "name": "stderr",
     "output_type": "stream",
     "text": [
      "/Users/kirill/anaconda/lib/python3.5/site-packages/sklearn/utils/fixes.py:64: DeprecationWarning: inspect.getargspec() is deprecated, use inspect.signature() instead\n",
      "  if 'order' in inspect.getargspec(np.copy)[0]:\n"
     ]
    }
   ],
   "source": [
    "import numpy as np\n",
    "import matplotlib.pyplot as plt\n",
    "%matplotlib inline\n",
    "from sklearn.datasets import load_iris\n",
    "from sklearn.preprocessing import LabelBinarizer\n",
    "import pyprind\n",
    "from pydeeptoy.networks import *\n",
    "from pydeeptoy.optimizers import *\n",
    "from pydeeptoy.losses import *\n",
    "from sklearn.metrics import accuracy_score"
   ]
  },
  {
   "cell_type": "code",
   "execution_count": 52,
   "metadata": {
    "collapsed": false
   },
   "outputs": [],
   "source": [
    "mnist = np.loadtxt('mnist/train.csv', delimiter=',', skiprows=1)"
   ]
  },
  {
   "cell_type": "code",
   "execution_count": 53,
   "metadata": {
    "collapsed": false
   },
   "outputs": [],
   "source": [
    "X = mnist[:, 1:]\n",
    "y = mnist[:, 0]"
   ]
  },
  {
   "cell_type": "code",
   "execution_count": 54,
   "metadata": {
    "collapsed": false
   },
   "outputs": [
    {
     "data": {
      "text/plain": [
       "(42000, 784)"
      ]
     },
     "execution_count": 54,
     "metadata": {},
     "output_type": "execute_result"
    }
   ],
   "source": [
    "X.shape"
   ]
  },
  {
   "cell_type": "code",
   "execution_count": 55,
   "metadata": {
    "collapsed": true
   },
   "outputs": [],
   "source": [
    "mnistMean, mnistStd = np.mean(X), np.std(X)\n",
    "X = (X - mnistMean)/mnistStd"
   ]
  },
  {
   "cell_type": "code",
   "execution_count": 56,
   "metadata": {
    "collapsed": false
   },
   "outputs": [],
   "source": [
    "one_hot_y = np.array(LabelBinarizer().fit_transform(y).T)"
   ]
  },
  {
   "cell_type": "code",
   "execution_count": 57,
   "metadata": {
    "collapsed": false
   },
   "outputs": [
    {
     "data": {
      "text/plain": [
       "<matplotlib.text.Text at 0x148196ef0>"
      ]
     },
     "execution_count": 57,
     "metadata": {},
     "output_type": "execute_result"
    },
    {
     "data": {
      "image/png": "[encoded data removed]",
      "text/plain": [
       "<matplotlib.figure.Figure at 0x1482d40b8>"
      ]
     },
     "metadata": {},
     "output_type": "display_data"
    }
   ],
   "source": [
    "plt.imshow(X[9].reshape(28, 28), cmap='gray')\n",
    "plt.title(np.argmax(one_hot_y[:, 9]))"
   ]
  },
  {
   "cell_type": "code",
   "execution_count": 58,
   "metadata": {
    "collapsed": false
   },
   "outputs": [],
   "source": [
    "X = X[:1000,:]\n",
    "one_hot_y = one_hot_y[:, :1000]\n",
    "y = y[:1000]"
   ]
  },
  {
   "cell_type": "code",
   "execution_count": 75,
   "metadata": {
    "collapsed": false
   },
   "outputs": [
    {
     "name": "stdout",
     "output_type": "stream",
     "text": [
      "0%                                                        100%\n",
      "[████████████████████████████████████████████████████████████] | ETA: 00:00:00 | Item ID: loss = 0.00\n",
      "Total time elapsed: 00:00:03\n"
     ]
    },
    {
     "data": {
      "text/plain": [
       "1.0"
      ]
     },
     "execution_count": 75,
     "metadata": {},
     "output_type": "execute_result"
    }
   ],
   "source": [
    "cg = ComputationalGraph()\n",
    "x_in = cg.constant(name=\"X\")\n",
    "nn_output = neural_network(cg, x_in, X.shape[1], 100, 50, 10)\n",
    "nn_output.name = \"nn_output\"\n",
    "        \n",
    "y_train = cg.constant(name=\"one_hot_y\")\n",
    "batch_size=256\n",
    "loss = softmax(cg, nn_output, y_train, batch_size, \"loss_softmax\")\n",
    "\n",
    "ctx = SimulationContext()        \n",
    "\n",
    "sgd = MomentumSgdOptimizer(learning_rate=0.1)\n",
    "epochs = 100\n",
    "bar = pyprind.ProgBar(epochs, bar_char='█', width=60, track_time=True, stream=1)\n",
    "for epoch in range(0, epochs):\n",
    "    indexes = np.arange(0, len(X))\n",
    "    np.random.shuffle(indexes)\n",
    "    train_x = X[indexes, :]\n",
    "    train_y = one_hot_y[:, indexes]    \n",
    "    for batch in range(0, len(train_x), batch_size):\n",
    "        batch_x = train_x[batch:batch + batch_size]\n",
    "        batch_y = train_y[:, batch:batch + batch_size]\n",
    "        sgd.minimize(ctx, cg, {x_in: batch_x.T, y_train: batch_y})    \n",
    "    bar.update(item_id = \"loss = {0:.2f}\".format(ctx[loss].value))\n",
    "\n",
    "ctx.forward(cg, {x_in: X.T, y_train: 1})\n",
    "y_pred = np.argmax(ctx[nn_output].value, axis=0)\n",
    "\n",
    "accuracy = accuracy_score(y, y_pred)\n",
    "accuracy"
   ]
  },
  {
   "cell_type": "code",
   "execution_count": 86,
   "metadata": {
    "collapsed": true
   },
   "outputs": [],
   "source": [
    "Xtest = np.loadtxt('mnist/test.csv', delimiter=',', skiprows=1)\n",
    "Xtest = (Xtest - mnistMean)/mnistStd"
   ]
  },
  {
   "cell_type": "code",
   "execution_count": 87,
   "metadata": {
    "collapsed": false
   },
   "outputs": [
    {
     "data": {
      "text/plain": [
       "(28000, 784)"
      ]
     },
     "execution_count": 87,
     "metadata": {},
     "output_type": "execute_result"
    }
   ],
   "source": [
    "Xtest.shape"
   ]
  },
  {
   "cell_type": "code",
   "execution_count": 89,
   "metadata": {
    "collapsed": true
   },
   "outputs": [],
   "source": [
    "ctx.forward(cg, {x_in: Xtest.T, y_train: 1})\n",
    "y_pred_test = np.argmax(ctx[nn_output].value, axis=0)"
   ]
  },
  {
   "cell_type": "code",
   "execution_count": 106,
   "metadata": {
    "collapsed": false
   },
   "outputs": [
    {
     "data": {
      "text/plain": [
       "<matplotlib.text.Text at 0x150579278>"
      ]
     },
     "execution_count": 106,
     "metadata": {},
     "output_type": "execute_result"
    },
    {
     "data": {
      "image/png": "[encoded data removed]",
      "text/plain": [
       "<matplotlib.figure.Figure at 0x15055f630>"
      ]
     },
     "metadata": {},
     "output_type": "display_data"
    }
   ],
   "source": [
    "plt.imshow(Xtest[255].reshape(28, 28), cmap='gray')\n",
    "plt.title(y_pred_test[255])"
   ]
  },
  {
   "cell_type": "code",
   "execution_count": 103,
   "metadata": {
    "collapsed": false
   },
   "outputs": [],
   "source": [
    "np.savetxt('mnist/pred.csv', np.column_stack((np.arange(len(y_pred_test)) + 1, y_pred_test)), \n",
    "           delimiter=',', header='ImageId,Label', fmt='%.d', comments='')"
   ]
  }
 ],
 "metadata": {
  "kernelspec": {
   "display_name": "Python 3",
   "language": "python",
   "name": "python3"
  },
  "language_info": {
   "codemirror_mode": {
    "name": "ipython",
    "version": 3
   },
   "file_extension": ".py",
   "mimetype": "text/x-python",
   "name": "python",
   "nbconvert_exporter": "python",
   "pygments_lexer": "ipython3",
   "version": "3.5.2"
  }
 },
 "nbformat": 4,
 "nbformat_minor": 0
}
