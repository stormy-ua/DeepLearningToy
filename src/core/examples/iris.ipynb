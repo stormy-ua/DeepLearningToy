{
 "cells": [
  {
   "cell_type": "markdown",
   "metadata": {},
   "source": [
    "# Iris dataset classification with 2-layer neural network"
   ]
  },
  {
   "cell_type": "code",
   "execution_count": 1,
   "metadata": {
    "collapsed": false
   },
   "outputs": [],
   "source": [
    "import numpy as np\n",
    "import matplotlib.pyplot as plt\n",
    "%matplotlib inline\n",
    "from sklearn.datasets import load_iris\n",
    "from sklearn.preprocessing import LabelBinarizer\n",
    "import pyprind\n",
    "\n",
    "import sys\n",
    "sys.path.append('../')\n",
    "from networks import *\n",
    "from optimizers import *"
   ]
  },
  {
   "cell_type": "code",
   "execution_count": 2,
   "metadata": {
    "collapsed": false
   },
   "outputs": [
    {
     "name": "stdout",
     "output_type": "stream",
     "text": [
      "0%                                                        100%\n",
      "[████████████████████████████████████████████████████████████] | ETA: 00:00:00 | Item ID: loss = 26.14\n",
      "Total time elapsed: 00:00:00\n"
     ]
    },
    {
     "data": {
      "text/plain": [
       "0.80666666666666664"
      ]
     },
     "execution_count": 2,
     "metadata": {},
     "output_type": "execute_result"
    }
   ],
   "source": [
    "iris = load_iris()\n",
    "X = iris.data[:, :2]\n",
    "y = iris.target\n",
    "\n",
    "# standardize\n",
    "mean = X.mean(axis=0)\n",
    "std = X.std(axis=0)\n",
    "X = (X - mean) / std\n",
    "one_hot_y = np.array(LabelBinarizer().fit_transform(y).T)\n",
    "\n",
    "network = NeuralNetwork(X.shape[1], 50, 3)\n",
    "\n",
    "epochs = 300\n",
    "bar = pyprind.ProgBar(epochs, bar_char='█', width=60, track_time=True, stream=1)\n",
    "for epoch in range(0, epochs):\n",
    "    sgd(network, X, one_hot_y, learningRate=0.05)\n",
    "    bar.update(item_id = \"loss = {0:.2f}\".format(network.loss.value))\n",
    "\n",
    "network.forward_backward(X, one_hot_y)\n",
    "y_pred = np.argmax(network.output.value, axis=0)\n",
    "\n",
    "accuracy = np.sum(y_pred == y) / len(y)\n",
    "accuracy"
   ]
  },
  {
   "cell_type": "code",
   "execution_count": 3,
   "metadata": {
    "collapsed": false
   },
   "outputs": [
    {
     "data": {
      "image/png": "[encoded data removed]",
      "text/plain": [
       "<matplotlib.figure.Figure at 0x5925dd8>"
      ]
     },
     "metadata": {},
     "output_type": "display_data"
    }
   ],
   "source": [
    "colors = \"bry\"\n",
    "fig = plt.figure()\n",
    "   \n",
    "h = 0.01\n",
    "x_min, x_max = X[:, 0].min() - 1, X[:, 0].max() + 1\n",
    "y_min, y_max = X[:, 1].min() - 1, X[:, 1].max() + 1\n",
    "xx, yy = np.meshgrid(np.arange(x_min, x_max, h),\n",
    "                     np.arange(y_min, y_max, h))\n",
    "\n",
    "mps = np.c_[xx.ravel(), yy.ravel()]\n",
    "network.one_hot_y_in.value = np.ones(shape=(3, len(mps)))\n",
    "Z = np.argmax(network.predict(mps), axis=0)\n",
    "# Put the result into a color plot\n",
    "Z = Z.reshape(xx.shape)\n",
    "cs = plt.contourf(xx, yy, Z, cmap=plt.cm.Paired)\n",
    "\n",
    "for i, color in zip(np.unique(iris.target), colors):\n",
    "    idx = np.where(y == i)\n",
    "    plt.scatter(X[y == i, 0], X[y == i, 1], c=color, label=iris.target_names[i], cmap=plt.cm.Paired)\n",
    "\n",
    "plt.axis('tight')\n",
    "fig.set_size_inches(8, 8)"
   ]
  }
 ],
 "metadata": {
  "kernelspec": {
   "display_name": "Python 3",
   "language": "python",
   "name": "python3"
  },
  "language_info": {
   "codemirror_mode": {
    "name": "ipython",
    "version": 3
   },
   "file_extension": ".py",
   "mimetype": "text/x-python",
   "name": "python",
   "nbconvert_exporter": "python",
   "pygments_lexer": "ipython3",
   "version": "3.5.1"
  }
 },
 "nbformat": 4,
 "nbformat_minor": 0
}
